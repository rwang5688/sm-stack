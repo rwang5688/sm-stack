{
 "cells": [
  {
   "cell_type": "code",
   "execution_count": 1,
   "metadata": {},
   "outputs": [
    {
     "name": "stdout",
     "output_type": "stream",
     "text": [
      "\u001b[33mWARNING: Ignoring invalid distribution -ras (/Users/alejandropelcastre/opt/anaconda3/lib/python3.8/site-packages)\u001b[0m\u001b[33m\n",
      "\u001b[0m\u001b[33mWARNING: Ignoring invalid distribution -ras (/Users/alejandropelcastre/opt/anaconda3/lib/python3.8/site-packages)\u001b[0m\u001b[33m\n",
      "\u001b[0m\u001b[33mWARNING: Ignoring invalid distribution - (/Users/alejandropelcastre/opt/anaconda3/lib/python3.8/site-packages)\u001b[0m\u001b[33m\n",
      "\u001b[0m\u001b[33mWARNING: Ignoring invalid distribution -eras (/Users/alejandropelcastre/opt/anaconda3/lib/python3.8/site-packages)\u001b[0m\u001b[33m\n",
      "\u001b[0m\u001b[33mWARNING: Ignoring invalid distribution -ras (/Users/alejandropelcastre/opt/anaconda3/lib/python3.8/site-packages)\u001b[0m\u001b[33m\n",
      "\u001b[0m\u001b[33mWARNING: Ignoring invalid distribution -ras (/Users/alejandropelcastre/opt/anaconda3/lib/python3.8/site-packages)\u001b[0m\u001b[33m\n",
      "\u001b[0m\u001b[33mWARNING: Ignoring invalid distribution - (/Users/alejandropelcastre/opt/anaconda3/lib/python3.8/site-packages)\u001b[0m\u001b[33m\n",
      "\u001b[0m\u001b[33mWARNING: Ignoring invalid distribution -eras (/Users/alejandropelcastre/opt/anaconda3/lib/python3.8/site-packages)\u001b[0m\u001b[33m\n",
      "\u001b[0mLooking in links: https://download.pytorch.org/whl/torch_stable.html\n",
      "Requirement already satisfied: torch in /Users/alejandropelcastre/opt/anaconda3/lib/python3.8/site-packages (1.12.0)\n",
      "Requirement already satisfied: torchvision in /Users/alejandropelcastre/opt/anaconda3/lib/python3.8/site-packages (0.13.0)\n",
      "Requirement already satisfied: torchaudio in /Users/alejandropelcastre/opt/anaconda3/lib/python3.8/site-packages (0.12.0)\n",
      "Requirement already satisfied: typing-extensions in /Users/alejandropelcastre/opt/anaconda3/lib/python3.8/site-packages (from torch) (3.7.4.3)\n",
      "Requirement already satisfied: pillow!=8.3.*,>=5.3.0 in /Users/alejandropelcastre/opt/anaconda3/lib/python3.8/site-packages (from torchvision) (8.2.0)\n",
      "Requirement already satisfied: requests in /Users/alejandropelcastre/opt/anaconda3/lib/python3.8/site-packages (from torchvision) (2.25.1)\n",
      "Requirement already satisfied: numpy in /Users/alejandropelcastre/opt/anaconda3/lib/python3.8/site-packages (from torchvision) (1.20.1)\n",
      "Requirement already satisfied: idna<3,>=2.5 in /Users/alejandropelcastre/opt/anaconda3/lib/python3.8/site-packages (from requests->torchvision) (2.10)\n",
      "Requirement already satisfied: urllib3<1.27,>=1.21.1 in /Users/alejandropelcastre/opt/anaconda3/lib/python3.8/site-packages (from requests->torchvision) (1.26.4)\n",
      "Requirement already satisfied: chardet<5,>=3.0.2 in /Users/alejandropelcastre/opt/anaconda3/lib/python3.8/site-packages (from requests->torchvision) (4.0.0)\n",
      "Requirement already satisfied: certifi>=2017.4.17 in /Users/alejandropelcastre/opt/anaconda3/lib/python3.8/site-packages (from requests->torchvision) (2020.12.5)\n",
      "\u001b[33mWARNING: Ignoring invalid distribution -ras (/Users/alejandropelcastre/opt/anaconda3/lib/python3.8/site-packages)\u001b[0m\u001b[33m\n",
      "\u001b[0m\u001b[33mWARNING: Ignoring invalid distribution -ras (/Users/alejandropelcastre/opt/anaconda3/lib/python3.8/site-packages)\u001b[0m\u001b[33m\n",
      "\u001b[0m\u001b[33mWARNING: Ignoring invalid distribution - (/Users/alejandropelcastre/opt/anaconda3/lib/python3.8/site-packages)\u001b[0m\u001b[33m\n",
      "\u001b[0m\u001b[33mWARNING: Ignoring invalid distribution -eras (/Users/alejandropelcastre/opt/anaconda3/lib/python3.8/site-packages)\u001b[0m\u001b[33m\n",
      "\u001b[0m\u001b[33mWARNING: Ignoring invalid distribution -ras (/Users/alejandropelcastre/opt/anaconda3/lib/python3.8/site-packages)\u001b[0m\u001b[33m\n",
      "\u001b[0m\u001b[33mWARNING: Ignoring invalid distribution -ras (/Users/alejandropelcastre/opt/anaconda3/lib/python3.8/site-packages)\u001b[0m\u001b[33m\n",
      "\u001b[0m\u001b[33mWARNING: Ignoring invalid distribution - (/Users/alejandropelcastre/opt/anaconda3/lib/python3.8/site-packages)\u001b[0m\u001b[33m\n",
      "\u001b[0m\u001b[33mWARNING: Ignoring invalid distribution -eras (/Users/alejandropelcastre/opt/anaconda3/lib/python3.8/site-packages)\u001b[0m\u001b[33m\n",
      "\u001b[0m\u001b[33mWARNING: Ignoring invalid distribution -ras (/Users/alejandropelcastre/opt/anaconda3/lib/python3.8/site-packages)\u001b[0m\u001b[33m\n",
      "\u001b[0m\u001b[33mWARNING: Ignoring invalid distribution -ras (/Users/alejandropelcastre/opt/anaconda3/lib/python3.8/site-packages)\u001b[0m\u001b[33m\n",
      "\u001b[0m\u001b[33mWARNING: Ignoring invalid distribution - (/Users/alejandropelcastre/opt/anaconda3/lib/python3.8/site-packages)\u001b[0m\u001b[33m\n",
      "\u001b[0m\u001b[33mWARNING: Ignoring invalid distribution -eras (/Users/alejandropelcastre/opt/anaconda3/lib/python3.8/site-packages)\u001b[0m\u001b[33m\n",
      "\u001b[0m\u001b[33mWARNING: Ignoring invalid distribution -ras (/Users/alejandropelcastre/opt/anaconda3/lib/python3.8/site-packages)\u001b[0m\u001b[33m\n",
      "\u001b[0m\u001b[33mWARNING: Ignoring invalid distribution -ras (/Users/alejandropelcastre/opt/anaconda3/lib/python3.8/site-packages)\u001b[0m\u001b[33m\n",
      "\u001b[0m\u001b[33mWARNING: Ignoring invalid distribution - (/Users/alejandropelcastre/opt/anaconda3/lib/python3.8/site-packages)\u001b[0m\u001b[33m\n",
      "\u001b[0m\u001b[33mWARNING: Ignoring invalid distribution -eras (/Users/alejandropelcastre/opt/anaconda3/lib/python3.8/site-packages)\u001b[0m\u001b[33m\n",
      "\u001b[0m\u001b[33mWARNING: There was an error checking the latest version of pip.\u001b[0m\u001b[33m\n",
      "\u001b[0mNote: you may need to restart the kernel to use updated packages.\n",
      "\u001b[33mWARNING: Ignoring invalid distribution -ras (/Users/alejandropelcastre/opt/anaconda3/lib/python3.8/site-packages)\u001b[0m\u001b[33m\n",
      "\u001b[0m\u001b[33mWARNING: Ignoring invalid distribution -ras (/Users/alejandropelcastre/opt/anaconda3/lib/python3.8/site-packages)\u001b[0m\u001b[33m\n",
      "\u001b[0m\u001b[33mWARNING: Ignoring invalid distribution - (/Users/alejandropelcastre/opt/anaconda3/lib/python3.8/site-packages)\u001b[0m\u001b[33m\n",
      "\u001b[0m\u001b[33mWARNING: Ignoring invalid distribution -eras (/Users/alejandropelcastre/opt/anaconda3/lib/python3.8/site-packages)\u001b[0m\u001b[33m\n",
      "\u001b[0m\u001b[33mWARNING: Ignoring invalid distribution -ras (/Users/alejandropelcastre/opt/anaconda3/lib/python3.8/site-packages)\u001b[0m\u001b[33m\n",
      "\u001b[0m\u001b[33mWARNING: Ignoring invalid distribution -ras (/Users/alejandropelcastre/opt/anaconda3/lib/python3.8/site-packages)\u001b[0m\u001b[33m\n",
      "\u001b[0m\u001b[33mWARNING: Ignoring invalid distribution - (/Users/alejandropelcastre/opt/anaconda3/lib/python3.8/site-packages)\u001b[0m\u001b[33m\n",
      "\u001b[0m\u001b[33mWARNING: Ignoring invalid distribution -eras (/Users/alejandropelcastre/opt/anaconda3/lib/python3.8/site-packages)\u001b[0m\u001b[33m\n",
      "\u001b[0mRequirement already satisfied: huggingface_hub==0.1.0 in /Users/alejandropelcastre/opt/anaconda3/lib/python3.8/site-packages (0.1.0)\n",
      "Requirement already satisfied: pyyaml in /Users/alejandropelcastre/opt/anaconda3/lib/python3.8/site-packages (from huggingface_hub==0.1.0) (5.4.1)\n",
      "Requirement already satisfied: packaging>=20.9 in /Users/alejandropelcastre/opt/anaconda3/lib/python3.8/site-packages (from huggingface_hub==0.1.0) (20.9)\n",
      "Requirement already satisfied: tqdm in /Users/alejandropelcastre/opt/anaconda3/lib/python3.8/site-packages (from huggingface_hub==0.1.0) (4.59.0)\n",
      "Requirement already satisfied: filelock in /Users/alejandropelcastre/.local/lib/python3.8/site-packages (from huggingface_hub==0.1.0) (3.4.2)\n",
      "Requirement already satisfied: typing-extensions in /Users/alejandropelcastre/opt/anaconda3/lib/python3.8/site-packages (from huggingface_hub==0.1.0) (3.7.4.3)\n",
      "Requirement already satisfied: requests in /Users/alejandropelcastre/opt/anaconda3/lib/python3.8/site-packages (from huggingface_hub==0.1.0) (2.25.1)\n",
      "Requirement already satisfied: pyparsing>=2.0.2 in /Users/alejandropelcastre/opt/anaconda3/lib/python3.8/site-packages (from packaging>=20.9->huggingface_hub==0.1.0) (2.4.7)\n",
      "Requirement already satisfied: urllib3<1.27,>=1.21.1 in /Users/alejandropelcastre/opt/anaconda3/lib/python3.8/site-packages (from requests->huggingface_hub==0.1.0) (1.26.4)\n",
      "Requirement already satisfied: idna<3,>=2.5 in /Users/alejandropelcastre/opt/anaconda3/lib/python3.8/site-packages (from requests->huggingface_hub==0.1.0) (2.10)\n",
      "Requirement already satisfied: certifi>=2017.4.17 in /Users/alejandropelcastre/opt/anaconda3/lib/python3.8/site-packages (from requests->huggingface_hub==0.1.0) (2020.12.5)\n",
      "Requirement already satisfied: chardet<5,>=3.0.2 in /Users/alejandropelcastre/opt/anaconda3/lib/python3.8/site-packages (from requests->huggingface_hub==0.1.0) (4.0.0)\n",
      "\u001b[33mWARNING: Ignoring invalid distribution -ras (/Users/alejandropelcastre/opt/anaconda3/lib/python3.8/site-packages)\u001b[0m\u001b[33m\n",
      "\u001b[0m\u001b[33mWARNING: Ignoring invalid distribution -ras (/Users/alejandropelcastre/opt/anaconda3/lib/python3.8/site-packages)\u001b[0m\u001b[33m\n",
      "\u001b[0m\u001b[33mWARNING: Ignoring invalid distribution - (/Users/alejandropelcastre/opt/anaconda3/lib/python3.8/site-packages)\u001b[0m\u001b[33m\n",
      "\u001b[0m\u001b[33mWARNING: Ignoring invalid distribution -eras (/Users/alejandropelcastre/opt/anaconda3/lib/python3.8/site-packages)\u001b[0m\u001b[33m\n",
      "\u001b[0m\u001b[33mWARNING: Ignoring invalid distribution -ras (/Users/alejandropelcastre/opt/anaconda3/lib/python3.8/site-packages)\u001b[0m\u001b[33m\n",
      "\u001b[0m\u001b[33mWARNING: Ignoring invalid distribution -ras (/Users/alejandropelcastre/opt/anaconda3/lib/python3.8/site-packages)\u001b[0m\u001b[33m\n",
      "\u001b[0m\u001b[33mWARNING: Ignoring invalid distribution - (/Users/alejandropelcastre/opt/anaconda3/lib/python3.8/site-packages)\u001b[0m\u001b[33m\n",
      "\u001b[0m\u001b[33mWARNING: Ignoring invalid distribution -eras (/Users/alejandropelcastre/opt/anaconda3/lib/python3.8/site-packages)\u001b[0m\u001b[33m\n",
      "\u001b[0m\u001b[33mWARNING: Ignoring invalid distribution -ras (/Users/alejandropelcastre/opt/anaconda3/lib/python3.8/site-packages)\u001b[0m\u001b[33m\n",
      "\u001b[0m\u001b[33mWARNING: Ignoring invalid distribution -ras (/Users/alejandropelcastre/opt/anaconda3/lib/python3.8/site-packages)\u001b[0m\u001b[33m\n",
      "\u001b[0m\u001b[33mWARNING: Ignoring invalid distribution - (/Users/alejandropelcastre/opt/anaconda3/lib/python3.8/site-packages)\u001b[0m\u001b[33m\n",
      "\u001b[0m\u001b[33mWARNING: Ignoring invalid distribution -eras (/Users/alejandropelcastre/opt/anaconda3/lib/python3.8/site-packages)\u001b[0m\u001b[33m\n",
      "\u001b[0m\u001b[33mWARNING: Ignoring invalid distribution -ras (/Users/alejandropelcastre/opt/anaconda3/lib/python3.8/site-packages)\u001b[0m\u001b[33m\n",
      "\u001b[0m\u001b[33mWARNING: Ignoring invalid distribution -ras (/Users/alejandropelcastre/opt/anaconda3/lib/python3.8/site-packages)\u001b[0m\u001b[33m\n",
      "\u001b[0m\u001b[33mWARNING: Ignoring invalid distribution - (/Users/alejandropelcastre/opt/anaconda3/lib/python3.8/site-packages)\u001b[0m\u001b[33m\n",
      "\u001b[0m\u001b[33mWARNING: Ignoring invalid distribution -eras (/Users/alejandropelcastre/opt/anaconda3/lib/python3.8/site-packages)\u001b[0m\u001b[33m\n",
      "\u001b[0m\u001b[33mWARNING: There was an error checking the latest version of pip.\u001b[0m\u001b[33m\n",
      "\u001b[0mNote: you may need to restart the kernel to use updated packages.\n",
      "\u001b[33mWARNING: Ignoring invalid distribution -ras (/Users/alejandropelcastre/opt/anaconda3/lib/python3.8/site-packages)\u001b[0m\u001b[33m\n",
      "\u001b[0m\u001b[33mWARNING: Ignoring invalid distribution -ras (/Users/alejandropelcastre/opt/anaconda3/lib/python3.8/site-packages)\u001b[0m\u001b[33m\n",
      "\u001b[0m\u001b[33mWARNING: Ignoring invalid distribution - (/Users/alejandropelcastre/opt/anaconda3/lib/python3.8/site-packages)\u001b[0m\u001b[33m\n",
      "\u001b[0m\u001b[33mWARNING: Ignoring invalid distribution -eras (/Users/alejandropelcastre/opt/anaconda3/lib/python3.8/site-packages)\u001b[0m\u001b[33m\n",
      "\u001b[0m\u001b[33mWARNING: Ignoring invalid distribution -ras (/Users/alejandropelcastre/opt/anaconda3/lib/python3.8/site-packages)\u001b[0m\u001b[33m\n",
      "\u001b[0m\u001b[33mWARNING: Ignoring invalid distribution -ras (/Users/alejandropelcastre/opt/anaconda3/lib/python3.8/site-packages)\u001b[0m\u001b[33m\n",
      "\u001b[0m\u001b[33mWARNING: Ignoring invalid distribution - (/Users/alejandropelcastre/opt/anaconda3/lib/python3.8/site-packages)\u001b[0m\u001b[33m\n",
      "\u001b[0m\u001b[33mWARNING: Ignoring invalid distribution -eras (/Users/alejandropelcastre/opt/anaconda3/lib/python3.8/site-packages)\u001b[0m\u001b[33m\n",
      "\u001b[0mRequirement already satisfied: transformers==4.12 in /Users/alejandropelcastre/opt/anaconda3/lib/python3.8/site-packages (4.12.0)\n",
      "Requirement already satisfied: huggingface-hub>=0.0.17 in /Users/alejandropelcastre/opt/anaconda3/lib/python3.8/site-packages (from transformers==4.12) (0.1.0)\n",
      "Requirement already satisfied: requests in /Users/alejandropelcastre/opt/anaconda3/lib/python3.8/site-packages (from transformers==4.12) (2.25.1)\n",
      "Requirement already satisfied: filelock in /Users/alejandropelcastre/.local/lib/python3.8/site-packages (from transformers==4.12) (3.4.2)\n",
      "Requirement already satisfied: regex!=2019.12.17 in /Users/alejandropelcastre/opt/anaconda3/lib/python3.8/site-packages (from transformers==4.12) (2021.4.4)\n",
      "Requirement already satisfied: tokenizers<0.11,>=0.10.1 in /Users/alejandropelcastre/opt/anaconda3/lib/python3.8/site-packages (from transformers==4.12) (0.10.3)\n",
      "Requirement already satisfied: tqdm>=4.27 in /Users/alejandropelcastre/opt/anaconda3/lib/python3.8/site-packages (from transformers==4.12) (4.59.0)\n",
      "Requirement already satisfied: pyyaml>=5.1 in /Users/alejandropelcastre/opt/anaconda3/lib/python3.8/site-packages (from transformers==4.12) (5.4.1)\n",
      "Requirement already satisfied: packaging>=20.0 in /Users/alejandropelcastre/opt/anaconda3/lib/python3.8/site-packages (from transformers==4.12) (20.9)\n",
      "Requirement already satisfied: sacremoses in /Users/alejandropelcastre/opt/anaconda3/lib/python3.8/site-packages (from transformers==4.12) (0.0.53)\n",
      "Requirement already satisfied: numpy>=1.17 in /Users/alejandropelcastre/opt/anaconda3/lib/python3.8/site-packages (from transformers==4.12) (1.20.1)\n",
      "Requirement already satisfied: typing-extensions in /Users/alejandropelcastre/opt/anaconda3/lib/python3.8/site-packages (from huggingface-hub>=0.0.17->transformers==4.12) (3.7.4.3)\n",
      "Requirement already satisfied: pyparsing>=2.0.2 in /Users/alejandropelcastre/opt/anaconda3/lib/python3.8/site-packages (from packaging>=20.0->transformers==4.12) (2.4.7)\n",
      "Requirement already satisfied: certifi>=2017.4.17 in /Users/alejandropelcastre/opt/anaconda3/lib/python3.8/site-packages (from requests->transformers==4.12) (2020.12.5)\n",
      "Requirement already satisfied: urllib3<1.27,>=1.21.1 in /Users/alejandropelcastre/opt/anaconda3/lib/python3.8/site-packages (from requests->transformers==4.12) (1.26.4)\n",
      "Requirement already satisfied: idna<3,>=2.5 in /Users/alejandropelcastre/opt/anaconda3/lib/python3.8/site-packages (from requests->transformers==4.12) (2.10)\n",
      "Requirement already satisfied: chardet<5,>=3.0.2 in /Users/alejandropelcastre/opt/anaconda3/lib/python3.8/site-packages (from requests->transformers==4.12) (4.0.0)\n",
      "Requirement already satisfied: click in /Users/alejandropelcastre/opt/anaconda3/lib/python3.8/site-packages (from sacremoses->transformers==4.12) (7.1.2)\n",
      "Requirement already satisfied: six in /Users/alejandropelcastre/opt/anaconda3/lib/python3.8/site-packages (from sacremoses->transformers==4.12) (1.15.0)\n",
      "Requirement already satisfied: joblib in /Users/alejandropelcastre/opt/anaconda3/lib/python3.8/site-packages (from sacremoses->transformers==4.12) (1.0.1)\n",
      "\u001b[33mWARNING: Ignoring invalid distribution -ras (/Users/alejandropelcastre/opt/anaconda3/lib/python3.8/site-packages)\u001b[0m\u001b[33m\n",
      "\u001b[0m\u001b[33mWARNING: Ignoring invalid distribution -ras (/Users/alejandropelcastre/opt/anaconda3/lib/python3.8/site-packages)\u001b[0m\u001b[33m\n",
      "\u001b[0m\u001b[33mWARNING: Ignoring invalid distribution - (/Users/alejandropelcastre/opt/anaconda3/lib/python3.8/site-packages)\u001b[0m\u001b[33m\n",
      "\u001b[0m\u001b[33mWARNING: Ignoring invalid distribution -eras (/Users/alejandropelcastre/opt/anaconda3/lib/python3.8/site-packages)\u001b[0m\u001b[33m\n",
      "\u001b[0m\u001b[33mWARNING: Ignoring invalid distribution -ras (/Users/alejandropelcastre/opt/anaconda3/lib/python3.8/site-packages)\u001b[0m\u001b[33m\n",
      "\u001b[0m\u001b[33mWARNING: Ignoring invalid distribution -ras (/Users/alejandropelcastre/opt/anaconda3/lib/python3.8/site-packages)\u001b[0m\u001b[33m\n",
      "\u001b[0m\u001b[33mWARNING: Ignoring invalid distribution - (/Users/alejandropelcastre/opt/anaconda3/lib/python3.8/site-packages)\u001b[0m\u001b[33m\n",
      "\u001b[0m\u001b[33mWARNING: Ignoring invalid distribution -eras (/Users/alejandropelcastre/opt/anaconda3/lib/python3.8/site-packages)\u001b[0m\u001b[33m\n",
      "\u001b[0m\u001b[33mWARNING: Ignoring invalid distribution -ras (/Users/alejandropelcastre/opt/anaconda3/lib/python3.8/site-packages)\u001b[0m\u001b[33m\n",
      "\u001b[0m\u001b[33mWARNING: Ignoring invalid distribution -ras (/Users/alejandropelcastre/opt/anaconda3/lib/python3.8/site-packages)\u001b[0m\u001b[33m\n",
      "\u001b[0m\u001b[33mWARNING: Ignoring invalid distribution - (/Users/alejandropelcastre/opt/anaconda3/lib/python3.8/site-packages)\u001b[0m\u001b[33m\n",
      "\u001b[0m\u001b[33mWARNING: Ignoring invalid distribution -eras (/Users/alejandropelcastre/opt/anaconda3/lib/python3.8/site-packages)\u001b[0m\u001b[33m\n",
      "\u001b[0m\u001b[33mWARNING: Ignoring invalid distribution -ras (/Users/alejandropelcastre/opt/anaconda3/lib/python3.8/site-packages)\u001b[0m\u001b[33m\n",
      "\u001b[0m\u001b[33mWARNING: Ignoring invalid distribution -ras (/Users/alejandropelcastre/opt/anaconda3/lib/python3.8/site-packages)\u001b[0m\u001b[33m\n",
      "\u001b[0m\u001b[33mWARNING: Ignoring invalid distribution - (/Users/alejandropelcastre/opt/anaconda3/lib/python3.8/site-packages)\u001b[0m\u001b[33m\n",
      "\u001b[0m\u001b[33mWARNING: Ignoring invalid distribution -eras (/Users/alejandropelcastre/opt/anaconda3/lib/python3.8/site-packages)\u001b[0m\u001b[33m\n",
      "\u001b[0m\u001b[33mWARNING: There was an error checking the latest version of pip.\u001b[0m\u001b[33m\n",
      "\u001b[0mNote: you may need to restart the kernel to use updated packages.\n"
     ]
    }
   ],
   "source": [
    "# install pre-trained model packages\n",
    "%pip install torch torchvision torchaudio -f https://download.pytorch.org/whl/torch_stable.html\n",
    "%pip install huggingface_hub==0.1.0 \n",
    "%pip install transformers==4.12"
   ]
  },
  {
   "cell_type": "code",
   "execution_count": null,
   "metadata": {},
   "outputs": [],
   "source": [
    "# test pre-trained model\n",
    "from transformers import AutoTokenizer, AutoModelForSequenceClassification\n",
    "from transformers import TextClassificationPipeline\n",
    "\n",
    "tokenizer = AutoTokenizer.from_pretrained(\"distilbert-base-uncased-finetuned-sst-2-english\")\n",
    "\n",
    "model = AutoModelForSequenceClassification.from_pretrained(\"distilbert-base-uncased-finetuned-sst-2-english\")\n",
    "\n",
    "pipe = TextClassificationPipeline(model=model, tokenizer=tokenizer, return_all_scores=True)\n",
    "pipe(\"I love Amazon SageMaker Studio Lab!\")"
   ]
  },
  {
   "cell_type": "code",
   "execution_count": 2,
   "metadata": {},
   "outputs": [
    {
     "name": "stdout",
     "output_type": "stream",
     "text": [
      "\u001b[33mWARNING: Ignoring invalid distribution -ras (/Users/alejandropelcastre/opt/anaconda3/lib/python3.8/site-packages)\u001b[0m\u001b[33m\n",
      "\u001b[0m\u001b[33mWARNING: Ignoring invalid distribution -ras (/Users/alejandropelcastre/opt/anaconda3/lib/python3.8/site-packages)\u001b[0m\u001b[33m\n",
      "\u001b[0m\u001b[33mWARNING: Ignoring invalid distribution - (/Users/alejandropelcastre/opt/anaconda3/lib/python3.8/site-packages)\u001b[0m\u001b[33m\n",
      "\u001b[0m\u001b[33mWARNING: Ignoring invalid distribution -eras (/Users/alejandropelcastre/opt/anaconda3/lib/python3.8/site-packages)\u001b[0m\u001b[33m\n",
      "\u001b[0m\u001b[33mWARNING: Ignoring invalid distribution -ras (/Users/alejandropelcastre/opt/anaconda3/lib/python3.8/site-packages)\u001b[0m\u001b[33m\n",
      "\u001b[0m\u001b[33mWARNING: Ignoring invalid distribution -ras (/Users/alejandropelcastre/opt/anaconda3/lib/python3.8/site-packages)\u001b[0m\u001b[33m\n",
      "\u001b[0m\u001b[33mWARNING: Ignoring invalid distribution - (/Users/alejandropelcastre/opt/anaconda3/lib/python3.8/site-packages)\u001b[0m\u001b[33m\n",
      "\u001b[0m\u001b[33mWARNING: Ignoring invalid distribution -eras (/Users/alejandropelcastre/opt/anaconda3/lib/python3.8/site-packages)\u001b[0m\u001b[33m\n",
      "\u001b[0mRequirement already satisfied: boto3 in /Users/alejandropelcastre/opt/anaconda3/lib/python3.8/site-packages (1.24.31)\n",
      "Requirement already satisfied: s3transfer<0.7.0,>=0.6.0 in /Users/alejandropelcastre/opt/anaconda3/lib/python3.8/site-packages (from boto3) (0.6.0)\n",
      "Requirement already satisfied: botocore<1.28.0,>=1.27.31 in /Users/alejandropelcastre/opt/anaconda3/lib/python3.8/site-packages (from boto3) (1.27.31)\n",
      "Requirement already satisfied: jmespath<2.0.0,>=0.7.1 in /Users/alejandropelcastre/opt/anaconda3/lib/python3.8/site-packages (from boto3) (1.0.1)\n",
      "Requirement already satisfied: urllib3<1.27,>=1.25.4 in /Users/alejandropelcastre/opt/anaconda3/lib/python3.8/site-packages (from botocore<1.28.0,>=1.27.31->boto3) (1.26.4)\n",
      "Requirement already satisfied: python-dateutil<3.0.0,>=2.1 in /Users/alejandropelcastre/opt/anaconda3/lib/python3.8/site-packages (from botocore<1.28.0,>=1.27.31->boto3) (2.8.1)\n",
      "Requirement already satisfied: six>=1.5 in /Users/alejandropelcastre/opt/anaconda3/lib/python3.8/site-packages (from python-dateutil<3.0.0,>=2.1->botocore<1.28.0,>=1.27.31->boto3) (1.15.0)\n",
      "\u001b[33mWARNING: Ignoring invalid distribution -ras (/Users/alejandropelcastre/opt/anaconda3/lib/python3.8/site-packages)\u001b[0m\u001b[33m\n",
      "\u001b[0m\u001b[33mWARNING: Ignoring invalid distribution -ras (/Users/alejandropelcastre/opt/anaconda3/lib/python3.8/site-packages)\u001b[0m\u001b[33m\n",
      "\u001b[0m\u001b[33mWARNING: Ignoring invalid distribution - (/Users/alejandropelcastre/opt/anaconda3/lib/python3.8/site-packages)\u001b[0m\u001b[33m\n",
      "\u001b[0m\u001b[33mWARNING: Ignoring invalid distribution -eras (/Users/alejandropelcastre/opt/anaconda3/lib/python3.8/site-packages)\u001b[0m\u001b[33m\n",
      "\u001b[0m\u001b[33mWARNING: Ignoring invalid distribution -ras (/Users/alejandropelcastre/opt/anaconda3/lib/python3.8/site-packages)\u001b[0m\u001b[33m\n",
      "\u001b[0m\u001b[33mWARNING: Ignoring invalid distribution -ras (/Users/alejandropelcastre/opt/anaconda3/lib/python3.8/site-packages)\u001b[0m\u001b[33m\n",
      "\u001b[0m\u001b[33mWARNING: Ignoring invalid distribution - (/Users/alejandropelcastre/opt/anaconda3/lib/python3.8/site-packages)\u001b[0m\u001b[33m\n",
      "\u001b[0m\u001b[33mWARNING: Ignoring invalid distribution -eras (/Users/alejandropelcastre/opt/anaconda3/lib/python3.8/site-packages)\u001b[0m\u001b[33m\n",
      "\u001b[0m\u001b[33mWARNING: Ignoring invalid distribution -ras (/Users/alejandropelcastre/opt/anaconda3/lib/python3.8/site-packages)\u001b[0m\u001b[33m\n",
      "\u001b[0m\u001b[33mWARNING: Ignoring invalid distribution -ras (/Users/alejandropelcastre/opt/anaconda3/lib/python3.8/site-packages)\u001b[0m\u001b[33m\n",
      "\u001b[0m\u001b[33mWARNING: Ignoring invalid distribution - (/Users/alejandropelcastre/opt/anaconda3/lib/python3.8/site-packages)\u001b[0m\u001b[33m\n",
      "\u001b[0m\u001b[33mWARNING: Ignoring invalid distribution -eras (/Users/alejandropelcastre/opt/anaconda3/lib/python3.8/site-packages)\u001b[0m\u001b[33m\n",
      "\u001b[0m\u001b[33mWARNING: Ignoring invalid distribution -ras (/Users/alejandropelcastre/opt/anaconda3/lib/python3.8/site-packages)\u001b[0m\u001b[33m\n",
      "\u001b[0m\u001b[33mWARNING: Ignoring invalid distribution -ras (/Users/alejandropelcastre/opt/anaconda3/lib/python3.8/site-packages)\u001b[0m\u001b[33m\n",
      "\u001b[0m\u001b[33mWARNING: Ignoring invalid distribution - (/Users/alejandropelcastre/opt/anaconda3/lib/python3.8/site-packages)\u001b[0m\u001b[33m\n",
      "\u001b[0m\u001b[33mWARNING: Ignoring invalid distribution -eras (/Users/alejandropelcastre/opt/anaconda3/lib/python3.8/site-packages)\u001b[0m\u001b[33m\n",
      "\u001b[0m\u001b[33mWARNING: There was an error checking the latest version of pip.\u001b[0m\u001b[33m\n",
      "\u001b[0mNote: you may need to restart the kernel to use updated packages.\n",
      "\u001b[33mWARNING: Ignoring invalid distribution -ras (/Users/alejandropelcastre/opt/anaconda3/lib/python3.8/site-packages)\u001b[0m\u001b[33m\n",
      "\u001b[0m\u001b[33mWARNING: Ignoring invalid distribution -ras (/Users/alejandropelcastre/opt/anaconda3/lib/python3.8/site-packages)\u001b[0m\u001b[33m\n",
      "\u001b[0m\u001b[33mWARNING: Ignoring invalid distribution - (/Users/alejandropelcastre/opt/anaconda3/lib/python3.8/site-packages)\u001b[0m\u001b[33m\n",
      "\u001b[0m\u001b[33mWARNING: Ignoring invalid distribution -eras (/Users/alejandropelcastre/opt/anaconda3/lib/python3.8/site-packages)\u001b[0m\u001b[33m\n",
      "\u001b[0m\u001b[33mWARNING: Ignoring invalid distribution -ras (/Users/alejandropelcastre/opt/anaconda3/lib/python3.8/site-packages)\u001b[0m\u001b[33m\n",
      "\u001b[0m\u001b[33mWARNING: Ignoring invalid distribution -ras (/Users/alejandropelcastre/opt/anaconda3/lib/python3.8/site-packages)\u001b[0m\u001b[33m\n",
      "\u001b[0m\u001b[33mWARNING: Ignoring invalid distribution - (/Users/alejandropelcastre/opt/anaconda3/lib/python3.8/site-packages)\u001b[0m\u001b[33m\n",
      "\u001b[0m\u001b[33mWARNING: Ignoring invalid distribution -eras (/Users/alejandropelcastre/opt/anaconda3/lib/python3.8/site-packages)\u001b[0m\u001b[33m\n",
      "\u001b[0mRequirement already satisfied: sagemaker in /Users/alejandropelcastre/opt/anaconda3/lib/python3.8/site-packages (2.99.0)\n",
      "Requirement already satisfied: numpy<2.0,>=1.9.0 in /Users/alejandropelcastre/opt/anaconda3/lib/python3.8/site-packages (from sagemaker) (1.20.1)\n",
      "Requirement already satisfied: google-pasta in /Users/alejandropelcastre/opt/anaconda3/lib/python3.8/site-packages (from sagemaker) (0.2.0)\n",
      "Requirement already satisfied: protobuf3-to-dict<1.0,>=0.1.5 in /Users/alejandropelcastre/opt/anaconda3/lib/python3.8/site-packages (from sagemaker) (0.1.5)\n",
      "Requirement already satisfied: pandas in /Users/alejandropelcastre/opt/anaconda3/lib/python3.8/site-packages (from sagemaker) (1.4.2)\n",
      "Requirement already satisfied: boto3<2.0,>=1.20.21 in /Users/alejandropelcastre/opt/anaconda3/lib/python3.8/site-packages (from sagemaker) (1.24.31)\n",
      "Requirement already satisfied: protobuf<4.0,>=3.1 in /Users/alejandropelcastre/opt/anaconda3/lib/python3.8/site-packages (from sagemaker) (3.19.1)\n",
      "Requirement already satisfied: packaging>=20.0 in /Users/alejandropelcastre/opt/anaconda3/lib/python3.8/site-packages (from sagemaker) (20.9)\n",
      "Requirement already satisfied: attrs<22,>=20.3.0 in /Users/alejandropelcastre/opt/anaconda3/lib/python3.8/site-packages (from sagemaker) (20.3.0)\n",
      "Requirement already satisfied: pathos in /Users/alejandropelcastre/opt/anaconda3/lib/python3.8/site-packages (from sagemaker) (0.2.9)\n",
      "Requirement already satisfied: importlib-metadata<5.0,>=1.4.0 in /Users/alejandropelcastre/opt/anaconda3/lib/python3.8/site-packages (from sagemaker) (4.8.2)\n",
      "Requirement already satisfied: smdebug-rulesconfig==1.0.1 in /Users/alejandropelcastre/opt/anaconda3/lib/python3.8/site-packages (from sagemaker) (1.0.1)\n",
      "Requirement already satisfied: jmespath<2.0.0,>=0.7.1 in /Users/alejandropelcastre/opt/anaconda3/lib/python3.8/site-packages (from boto3<2.0,>=1.20.21->sagemaker) (1.0.1)\n",
      "Requirement already satisfied: botocore<1.28.0,>=1.27.31 in /Users/alejandropelcastre/opt/anaconda3/lib/python3.8/site-packages (from boto3<2.0,>=1.20.21->sagemaker) (1.27.31)\n",
      "Requirement already satisfied: s3transfer<0.7.0,>=0.6.0 in /Users/alejandropelcastre/opt/anaconda3/lib/python3.8/site-packages (from boto3<2.0,>=1.20.21->sagemaker) (0.6.0)\n",
      "Requirement already satisfied: zipp>=0.5 in /Users/alejandropelcastre/opt/anaconda3/lib/python3.8/site-packages (from importlib-metadata<5.0,>=1.4.0->sagemaker) (3.4.1)\n",
      "Requirement already satisfied: pyparsing>=2.0.2 in /Users/alejandropelcastre/opt/anaconda3/lib/python3.8/site-packages (from packaging>=20.0->sagemaker) (2.4.7)\n",
      "Requirement already satisfied: six in /Users/alejandropelcastre/opt/anaconda3/lib/python3.8/site-packages (from protobuf3-to-dict<1.0,>=0.1.5->sagemaker) (1.15.0)\n",
      "Requirement already satisfied: python-dateutil>=2.8.1 in /Users/alejandropelcastre/opt/anaconda3/lib/python3.8/site-packages (from pandas->sagemaker) (2.8.1)\n",
      "Requirement already satisfied: pytz>=2020.1 in /Users/alejandropelcastre/opt/anaconda3/lib/python3.8/site-packages (from pandas->sagemaker) (2021.1)\n",
      "Requirement already satisfied: dill>=0.3.5.1 in /Users/alejandropelcastre/opt/anaconda3/lib/python3.8/site-packages (from pathos->sagemaker) (0.3.5.1)\n",
      "Requirement already satisfied: ppft>=1.7.6.5 in /Users/alejandropelcastre/opt/anaconda3/lib/python3.8/site-packages (from pathos->sagemaker) (1.7.6.5)\n",
      "Requirement already satisfied: multiprocess>=0.70.13 in /Users/alejandropelcastre/opt/anaconda3/lib/python3.8/site-packages (from pathos->sagemaker) (0.70.13)\n",
      "Requirement already satisfied: pox>=0.3.1 in /Users/alejandropelcastre/opt/anaconda3/lib/python3.8/site-packages (from pathos->sagemaker) (0.3.1)\n",
      "Requirement already satisfied: urllib3<1.27,>=1.25.4 in /Users/alejandropelcastre/opt/anaconda3/lib/python3.8/site-packages (from botocore<1.28.0,>=1.27.31->boto3<2.0,>=1.20.21->sagemaker) (1.26.4)\n",
      "\u001b[33mWARNING: Ignoring invalid distribution -ras (/Users/alejandropelcastre/opt/anaconda3/lib/python3.8/site-packages)\u001b[0m\u001b[33m\n",
      "\u001b[0m\u001b[33mWARNING: Ignoring invalid distribution -ras (/Users/alejandropelcastre/opt/anaconda3/lib/python3.8/site-packages)\u001b[0m\u001b[33m\n",
      "\u001b[0m\u001b[33mWARNING: Ignoring invalid distribution - (/Users/alejandropelcastre/opt/anaconda3/lib/python3.8/site-packages)\u001b[0m\u001b[33m\n",
      "\u001b[0m\u001b[33mWARNING: Ignoring invalid distribution -eras (/Users/alejandropelcastre/opt/anaconda3/lib/python3.8/site-packages)\u001b[0m\u001b[33m\n",
      "\u001b[0m\u001b[33mWARNING: Ignoring invalid distribution -ras (/Users/alejandropelcastre/opt/anaconda3/lib/python3.8/site-packages)\u001b[0m\u001b[33m\n",
      "\u001b[0m\u001b[33mWARNING: Ignoring invalid distribution -ras (/Users/alejandropelcastre/opt/anaconda3/lib/python3.8/site-packages)\u001b[0m\u001b[33m\n",
      "\u001b[0m\u001b[33mWARNING: Ignoring invalid distribution - (/Users/alejandropelcastre/opt/anaconda3/lib/python3.8/site-packages)\u001b[0m\u001b[33m\n",
      "\u001b[0m\u001b[33mWARNING: Ignoring invalid distribution -eras (/Users/alejandropelcastre/opt/anaconda3/lib/python3.8/site-packages)\u001b[0m\u001b[33m\n",
      "\u001b[0m\u001b[33mWARNING: Ignoring invalid distribution -ras (/Users/alejandropelcastre/opt/anaconda3/lib/python3.8/site-packages)\u001b[0m\u001b[33m\n",
      "\u001b[0m\u001b[33mWARNING: Ignoring invalid distribution -ras (/Users/alejandropelcastre/opt/anaconda3/lib/python3.8/site-packages)\u001b[0m\u001b[33m\n",
      "\u001b[0m\u001b[33mWARNING: Ignoring invalid distribution - (/Users/alejandropelcastre/opt/anaconda3/lib/python3.8/site-packages)\u001b[0m\u001b[33m\n",
      "\u001b[0m\u001b[33mWARNING: Ignoring invalid distribution -eras (/Users/alejandropelcastre/opt/anaconda3/lib/python3.8/site-packages)\u001b[0m\u001b[33m\n",
      "\u001b[0m\u001b[33mWARNING: Ignoring invalid distribution -ras (/Users/alejandropelcastre/opt/anaconda3/lib/python3.8/site-packages)\u001b[0m\u001b[33m\n",
      "\u001b[0m\u001b[33mWARNING: Ignoring invalid distribution -ras (/Users/alejandropelcastre/opt/anaconda3/lib/python3.8/site-packages)\u001b[0m\u001b[33m\n",
      "\u001b[0m\u001b[33mWARNING: Ignoring invalid distribution - (/Users/alejandropelcastre/opt/anaconda3/lib/python3.8/site-packages)\u001b[0m\u001b[33m\n",
      "\u001b[0m\u001b[33mWARNING: Ignoring invalid distribution -eras (/Users/alejandropelcastre/opt/anaconda3/lib/python3.8/site-packages)\u001b[0m\u001b[33m\n",
      "\u001b[0m\u001b[33mWARNING: There was an error checking the latest version of pip.\u001b[0m\u001b[33m\n",
      "\u001b[0mNote: you may need to restart the kernel to use updated packages.\n"
     ]
    }
   ],
   "source": [
    "# install AWS packages\n",
    "%pip install boto3\n",
    "%pip install sagemaker"
   ]
  },
  {
   "cell_type": "code",
   "execution_count": 3,
   "metadata": {},
   "outputs": [],
   "source": [
    "# set profile name as opposed to entering credentials\n",
    "profile_name = 'default'\n",
    "region_name = 'us-west-2'"
   ]
  },
  {
   "cell_type": "code",
   "execution_count": 4,
   "metadata": {},
   "outputs": [
    {
     "name": "stdout",
     "output_type": "stream",
     "text": [
      "{'Endpoints': [], 'ResponseMetadata': {'RequestId': 'e2e3b5c8-6bde-44b5-a72c-7fffa580336f', 'HTTPStatusCode': 200, 'HTTPHeaders': {'x-amzn-requestid': 'e2e3b5c8-6bde-44b5-a72c-7fffa580336f', 'content-type': 'application/x-amz-json-1.1', 'content-length': '16', 'date': 'Fri, 15 Jul 2022 23:54:36 GMT'}, 'RetryAttempts': 0}}\n"
     ]
    }
   ],
   "source": [
    "# get and test sagemaker client\n",
    "import boto3 \n",
    "session = boto3.Session(profile_name=profile_name)\n",
    "sm_client = session.client('sagemaker', region_name=region_name)\n",
    "response = sm_client.list_endpoints()\n",
    "print(response)"
   ]
  },
  {
   "cell_type": "code",
   "execution_count": 5,
   "metadata": {},
   "outputs": [
    {
     "name": "stdout",
     "output_type": "stream",
     "text": [
      "distilbert-text-classification-model-2022-07-15-23-54-36\n",
      "distilbert-text-classification-epc-2022-07-15-23-54-36\n",
      "distilbert-text-classification-ep-2022-07-15-23-54-36\n"
     ]
    }
   ],
   "source": [
    "# set model name and endpoint configuration name\n",
    "import time\n",
    "ml_model_name = \"distilbert-text-classification\"\n",
    "timestamp = time.strftime('-%Y-%m-%d-%H-%M-%S', time.gmtime())\n",
    "model_name = ml_model_name + '-model' + timestamp\n",
    "endpoint_config_name = ml_model_name + '-epc' + timestamp\n",
    "endpoint_name = ml_model_name + '-ep' + timestamp\n",
    "print(model_name)\n",
    "print(endpoint_config_name)\n",
    "print(endpoint_name)"
   ]
  },
  {
   "cell_type": "code",
   "execution_count": 6,
   "metadata": {},
   "outputs": [],
   "source": [
    "# set sagemaker execution role\n",
    "import sagemaker\n",
    "# create a sagemaker execution role via the AWS SageMaker console, then paste in the arn here\n",
    "role = 'arn:aws:iam::105065840964:role/sagemaker-execution-role'"
   ]
  },
  {
   "cell_type": "code",
   "execution_count": 7,
   "metadata": {},
   "outputs": [
    {
     "name": "stdout",
     "output_type": "stream",
     "text": [
      "763104351884.dkr.ecr.us-west-2.amazonaws.com/huggingface-pytorch-inference:1.9-transformers4.12-cpu-py38-ubuntu20.04\n",
      "{'Image': '763104351884.dkr.ecr.us-west-2.amazonaws.com/huggingface-pytorch-inference:1.9-transformers4.12-cpu-py38-ubuntu20.04', 'Mode': 'SingleModel', 'Environment': {'HF_MODEL_ID': 'distilbert-base-uncased-finetuned-sst-2-english', 'HF_TASK': 'text-classification', 'SAGEMAKER_CONTAINER_LOG_LEVEL': '20', 'SAGEMAKER_REGION': 'us-west-2'}}\n",
      "{'ModelArn': 'arn:aws:sagemaker:us-west-2:105065840964:model/distilbert-text-classification-model-2022-07-15-23-54-36', 'ResponseMetadata': {'RequestId': '38584e44-1f8b-4870-bda1-db92b7beb5da', 'HTTPStatusCode': 200, 'HTTPHeaders': {'x-amzn-requestid': '38584e44-1f8b-4870-bda1-db92b7beb5da', 'content-type': 'application/x-amz-json-1.1', 'content-length': '118', 'date': 'Fri, 15 Jul 2022 23:54:41 GMT'}, 'RetryAttempts': 0}}\n"
     ]
    }
   ],
   "source": [
    "# see deep learning containers (DLC) available images here:\n",
    "# https://github.com/aws/deep-learning-containers/blob/master/available_images.md \n",
    "model_image_url=\"763104351884.dkr.ecr.\"+region_name+\".amazonaws.com/\"+\\\n",
    "                \"huggingface-pytorch-inference:1.9-transformers4.12-cpu-py38-ubuntu20.04\"\n",
    "print(model_image_url)\n",
    "\n",
    "# set container config\n",
    "container_config = {\n",
    "    'Image': model_image_url,\n",
    "    'Mode': 'SingleModel',\n",
    "    'Environment': {\n",
    "        'HF_MODEL_ID': 'distilbert-base-uncased-finetuned-sst-2-english',\n",
    "        'HF_TASK' : 'text-classification',\n",
    "        'SAGEMAKER_CONTAINER_LOG_LEVEL' : '20',\n",
    "        'SAGEMAKER_REGION' : region_name\n",
    "    }\n",
    "}\n",
    "print(container_config)\n",
    "\n",
    "# create model\n",
    "# ... models console: https://console.aws.amazon.com/sagemaker/home?#/models\n",
    "response = sm_client.create_model(\n",
    "    ModelName=model_name,\n",
    "    PrimaryContainer=container_config,\n",
    "    ExecutionRoleArn=role, \n",
    "    EnableNetworkIsolation=False\n",
    ")\n",
    "print(response)"
   ]
  },
  {
   "cell_type": "code",
   "execution_count": 8,
   "metadata": {},
   "outputs": [
    {
     "name": "stdout",
     "output_type": "stream",
     "text": [
      "{'EndpointConfigArn': 'arn:aws:sagemaker:us-west-2:105065840964:endpoint-config/distilbert-text-classification-epc-2022-07-15-23-54-36', 'ResponseMetadata': {'RequestId': 'd61a8f6a-d810-46f8-851a-d0da30d45e91', 'HTTPStatusCode': 200, 'HTTPHeaders': {'x-amzn-requestid': 'd61a8f6a-d810-46f8-851a-d0da30d45e91', 'content-type': 'application/x-amz-json-1.1', 'content-length': '135', 'date': 'Fri, 15 Jul 2022 23:54:42 GMT'}, 'RetryAttempts': 0}}\n",
      "Endpoint configuration name: distilbert-text-classification-epc-2022-07-15-23-54-36\n",
      "Endpoint configuration arn:  arn:aws:sagemaker:us-west-2:105065840964:endpoint-config/distilbert-text-classification-epc-2022-07-15-23-54-36\n"
     ]
    }
   ],
   "source": [
    "# create endpoint config\n",
    "# ... endpoint configs console: https://console.aws.amazon.com/sagemaker/home?#/endpointConfig\n",
    "endpoint_config_response = sm_client.create_endpoint_config(\n",
    "   EndpointConfigName=endpoint_config_name,\n",
    "   ProductionVariants=[\n",
    "        {\n",
    "            \"ModelName\": model_name,\n",
    "            \"VariantName\": \"AllTraffic\",\n",
    "            \"ServerlessConfig\": {\n",
    "                # Specify MemorySizeInMB and MaxConcurrency in the serverless config object\n",
    "                \"MemorySizeInMB\": 3072,\n",
    "                \"MaxConcurrency\": 10\n",
    "            }\n",
    "        }\n",
    "    ]\n",
    ")\n",
    "print(endpoint_config_response)\n",
    "\n",
    "print('Endpoint configuration name: {}'.format(endpoint_config_name))\n",
    "print('Endpoint configuration arn:  {}'.format(endpoint_config_response['EndpointConfigArn']))"
   ]
  },
  {
   "cell_type": "code",
   "execution_count": 9,
   "metadata": {},
   "outputs": [
    {
     "name": "stdout",
     "output_type": "stream",
     "text": [
      "{'EndpointArn': 'arn:aws:sagemaker:us-west-2:105065840964:endpoint/distilbert-text-classification-ep-2022-07-15-23-54-36', 'ResponseMetadata': {'RequestId': '88994ef1-5dea-4c47-b216-10671d9a4902', 'HTTPStatusCode': 200, 'HTTPHeaders': {'x-amzn-requestid': '88994ef1-5dea-4c47-b216-10671d9a4902', 'content-type': 'application/x-amz-json-1.1', 'content-length': '121', 'date': 'Fri, 15 Jul 2022 23:54:50 GMT'}, 'RetryAttempts': 0}}\n",
      "Endpoint name: distilbert-text-classification-ep-2022-07-15-23-54-36\n",
      "Endpoint arn:  arn:aws:sagemaker:us-west-2:105065840964:endpoint/distilbert-text-classification-ep-2022-07-15-23-54-36\n"
     ]
    }
   ],
   "source": [
    "# create endpoint\n",
    "# ... endpoints console: https://console.aws.amazon.com/sagemaker/home?#/endpoints\n",
    "endpoint_response = sm_client.create_endpoint(\n",
    "    EndpointName=endpoint_name,\n",
    "    EndpointConfigName=endpoint_config_name\n",
    ")\n",
    "print(endpoint_response)\n",
    "\n",
    "print('Endpoint name: {}'.format(endpoint_name))\n",
    "print('Endpoint arn:  {}'.format(endpoint_response['EndpointArn']))"
   ]
  },
  {
   "cell_type": "code",
   "execution_count": 10,
   "metadata": {},
   "outputs": [
    {
     "name": "stdout",
     "output_type": "stream",
     "text": [
      "{'ResponseMetadata': {'RequestId': 'eac152c0-107d-4dad-a644-5e76b532fe29', 'HTTPStatusCode': 200, 'HTTPHeaders': {'x-amzn-requestid': 'eac152c0-107d-4dad-a644-5e76b532fe29', 'x-amzn-invoked-production-variant': 'AllTraffic', 'date': 'Fri, 15 Jul 2022 23:56:51 GMT', 'content-type': 'application/json', 'content-length': '48'}, 'RetryAttempts': 0}, 'ContentType': 'application/json', 'InvokedProductionVariant': 'AllTraffic', 'Body': <botocore.response.StreamingBody object at 0x7ff08b642c40>}\n",
      "[{\"label\":\"POSITIVE\",\"score\":0.997832715511322}]\n"
     ]
    }
   ],
   "source": [
    "# WAIT FOR ENDPOINT TO BE \"IN SERVICE\" BEFORE PROCEEDING WITH THIS STEP\n",
    "\n",
    "# invoke endpoint by endpoint name\n",
    "import json\n",
    "sm_runtime = session.client(\"sagemaker-runtime\", region_name=region_name)\n",
    "\n",
    "content_type = \"application/json\"\n",
    "\n",
    "# specify \"Inputs\"\n",
    "data = {\n",
    "   \"inputs\": \"Hi, I am Dogbert.\"\n",
    "}\n",
    "\n",
    "response = sm_runtime.invoke_endpoint(\n",
    "    EndpointName=endpoint_name,\n",
    "    ContentType=content_type,\n",
    "    Body=json.dumps(data)\n",
    ")\n",
    "print(response)\n",
    "print(response[\"Body\"].read().decode(\"utf-8\"))"
   ]
  },
  {
   "cell_type": "code",
   "execution_count": null,
   "metadata": {},
   "outputs": [],
   "source": [
    "# clean up: uncomment the following lines\n",
    "#sm_client.delete_endpoint(EndpointName=endpoint_name)\n",
    "#sm_client.delete_endpoint_config(EndpointConfigName=endpoint_config_name)\n",
    "#sm_client.delete_model(ModelName=model_name)"
   ]
  }
 ],
 "metadata": {
  "kernelspec": {
   "display_name": "Python 3",
   "language": "python",
   "name": "python3"
  },
  "language_info": {
   "codemirror_mode": {
    "name": "ipython",
    "version": 3
   },
   "file_extension": ".py",
   "mimetype": "text/x-python",
   "name": "python",
   "nbconvert_exporter": "python",
   "pygments_lexer": "ipython3",
   "version": "3.8.8"
  },
  "vscode": {
   "interpreter": {
    "hash": "369f2c481f4da34e4445cda3fffd2e751bd1c4d706f27375911949ba6bb62e1c"
   }
  }
 },
 "nbformat": 4,
 "nbformat_minor": 4
}
